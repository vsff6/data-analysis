{
 "cells": [
  {
   "cell_type": "code",
   "execution_count": 1,
   "metadata": {},
   "outputs": [],
   "source": [
    "import pandas as pd"
   ]
  },
  {
   "cell_type": "code",
   "execution_count": 2,
   "metadata": {},
   "outputs": [
    {
     "name": "stdout",
     "output_type": "stream",
     "text": [
      "    year month  sales  expenditure\n",
      "0   2018   jan   6226         3808\n",
      "1   2018   feb   1521         3373\n",
      "2   2018   mar   1842         3965\n",
      "3   2018   apr   2051         1098\n",
      "4   2018   may   1728         3046\n",
      "5   2018   jun   2138         2258\n",
      "6   2018   jul   7479         2084\n",
      "7   2018   aug   4434         2799\n",
      "8   2018   sep   3615         1649\n",
      "9   2018   oct   5472         1116\n",
      "10  2018   nov   7224         1431\n",
      "11  2018   dec   1812         3532\n"
     ]
    }
   ],
   "source": [
    "#Read the data from the spreadsheet \n",
    "df = pd.read_csv('data/sales.csv')\n",
    "print(df)"
   ]
  },
  {
   "cell_type": "code",
   "execution_count": 4,
   "metadata": {},
   "outputs": [
    {
     "name": "stdout",
     "output_type": "stream",
     "text": [
      "[6226, 1521, 1842, 2051, 1728, 2138, 7479, 4434, 3615, 5472, 7224, 1812]\n"
     ]
    }
   ],
   "source": [
    "#Collect all of the sales from each month into a single list \n",
    "sales_per_month = df['sales'].to_list()\n",
    "print(sales_per_month)"
   ]
  },
  {
   "cell_type": "code",
   "execution_count": 5,
   "metadata": {},
   "outputs": [
    {
     "name": "stdout",
     "output_type": "stream",
     "text": [
      "45542\n"
     ]
    }
   ],
   "source": [
    "# Output the total sales across all months \n",
    "total_sales = sum(sales_per_month)\n",
    "print(total_sales)\n"
   ]
  },
  {
   "cell_type": "code",
   "execution_count": 6,
   "metadata": {},
   "outputs": [
    {
     "name": "stdout",
     "output_type": "stream",
     "text": [
      "    year month  sales  expenditure  sales_per_month_cumulative\n",
      "0   2018   jan   6226         3808                        6226\n",
      "1   2018   feb   1521         3373                        7747\n",
      "2   2018   mar   1842         3965                        9589\n",
      "3   2018   apr   2051         1098                       11640\n",
      "4   2018   may   1728         3046                       13368\n",
      "5   2018   jun   2138         2258                       15506\n",
      "6   2018   jul   7479         2084                       22985\n",
      "7   2018   aug   4434         2799                       27419\n",
      "8   2018   sep   3615         1649                       31034\n",
      "9   2018   oct   5472         1116                       36506\n",
      "10  2018   nov   7224         1431                       43730\n",
      "11  2018   dec   1812         3532                       45542\n"
     ]
    }
   ],
   "source": [
    "#Output a summary of the results to a spreadsheet\n",
    "df['sales_per_month_cumulative'] = df['sales'].cumsum()\n",
    "print(df)\n",
    "\n",
    "df.to_csv('data/sales_summary.csv', index=False)\n"
   ]
  },
  {
   "cell_type": "code",
   "execution_count": 7,
   "metadata": {},
   "outputs": [
    {
     "name": "stdout",
     "output_type": "stream",
     "text": [
      "    year month  sales  expenditure  sales_per_month_cumulative  monthly_change\n",
      "0   2018   jan   6226         3808                        6226             NaN\n",
      "1   2018   feb   1521         3373                        7747       -0.755702\n",
      "2   2018   mar   1842         3965                        9589        0.211045\n",
      "3   2018   apr   2051         1098                       11640        0.113464\n",
      "4   2018   may   1728         3046                       13368       -0.157484\n",
      "5   2018   jun   2138         2258                       15506        0.237269\n",
      "6   2018   jul   7479         2084                       22985        2.498129\n",
      "7   2018   aug   4434         2799                       27419       -0.407140\n",
      "8   2018   sep   3615         1649                       31034       -0.184709\n",
      "9   2018   oct   5472         1116                       36506        0.513693\n",
      "10  2018   nov   7224         1431                       43730        0.320175\n",
      "11  2018   dec   1812         3532                       45542       -0.749169\n"
     ]
    }
   ],
   "source": [
    "#Calculate the monthly change in sales in percentage\n",
    "df['monthly_change'] = df['sales'].pct_change()\n",
    "print(df)"
   ]
  },
  {
   "cell_type": "code",
   "execution_count": 8,
   "metadata": {},
   "outputs": [
    {
     "name": "stdout",
     "output_type": "stream",
     "text": [
      "3795.1666666666665\n"
     ]
    }
   ],
   "source": [
    "#Calculate mean sales\n",
    "mean_sales = df['sales'].mean()\n",
    "print(mean_sales)"
   ]
  },
  {
   "cell_type": "code",
   "execution_count": 9,
   "metadata": {},
   "outputs": [
    {
     "name": "stdout",
     "output_type": "stream",
     "text": [
      "The month with the highest sales is jul with 7479 sales\n",
      "The month with the lowest sales is feb with 1521 sales\n"
     ]
    }
   ],
   "source": [
    "#Print the month with the highest and lowest sales values \n",
    "max_sales = df['sales'].max()\n",
    "max_month = df[df['sales'] == max_sales]['month'].values[0]\n",
    "min_sales = df['sales'].min()\n",
    "min_month = df[df['sales'] == min_sales]['month'].values[0]\n",
    "print(f'The month with the highest sales is {max_month} with {max_sales} sales')\n",
    "print(f'The month with the lowest sales is {min_month} with {min_sales} sales')\n"
   ]
  },
  {
   "cell_type": "code",
   "execution_count": 10,
   "metadata": {},
   "outputs": [
    {
     "name": "stdout",
     "output_type": "stream",
     "text": [
      "the mean of the monthly change in sales is 0.14905185857446582\n",
      "the standard deviation of the monthly change in sales is 0.8850645769851373\n",
      "6 months have a positive sales change\n",
      "5 months have a negative sales change\n",
      "0 months have no sales change\n",
      "6 months have a sales change greater than 10%\n",
      "5 months have a sales change less than -10%\n"
     ]
    }
   ],
   "source": [
    "#some additional analysis\n",
    "#Calculate the mean of the monthly change in sales\n",
    "mean_monthly_change = df['monthly_change'].mean()\n",
    "print(f\"the mean of the monthly change in sales is {mean_monthly_change}\")\n",
    "\n",
    "#Calculate the standard deviation of the monthly change in sales\n",
    "std_dev_monthly_change = df['monthly_change'].std()\n",
    "print(f\"the standard deviation of the monthly change in sales is {std_dev_monthly_change}\")\n",
    "\n",
    "#Calculate the number of months with a positive sales change\n",
    "num_positive_months = len(df[df['monthly_change'] > 0])\n",
    "print(f\"{num_positive_months} months have a positive sales change\")\n",
    "\n",
    "#Calculate the number of months with a negative sales change\n",
    "num_negative_months = len(df[df['monthly_change'] < 0])\n",
    "print(f\"{num_negative_months} months have a negative sales change\")\n",
    "\n",
    "#Calculate the number of months with no sales change\n",
    "num_no_change_months = len(df[df['monthly_change'] == 0])\n",
    "print(f\"{num_no_change_months} months have no sales change\")\n",
    "\n",
    "#Calculate the number of months with a sales change greater than 10%\n",
    "num_large_change_months = len(df[df['monthly_change'] > 0.1])\n",
    "print(f\"{num_large_change_months} months have a sales change greater than 10%\")\n",
    "\n",
    "#Calculate the number of months with a sales change less than -10%\n",
    "num_small_change_months = len(df[df['monthly_change'] < -0.1])\n",
    "print(f\"{num_small_change_months} months have a sales change less than -10%\")\n"
   ]
  }
 ],
 "metadata": {
  "kernelspec": {
   "display_name": ".venv",
   "language": "python",
   "name": "python3"
  },
  "language_info": {
   "codemirror_mode": {
    "name": "ipython",
    "version": 3
   },
   "file_extension": ".py",
   "mimetype": "text/x-python",
   "name": "python",
   "nbconvert_exporter": "python",
   "pygments_lexer": "ipython3",
   "version": "3.12.5"
  }
 },
 "nbformat": 4,
 "nbformat_minor": 2
}
